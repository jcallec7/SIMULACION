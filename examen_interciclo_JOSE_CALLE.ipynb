{
  "nbformat": 4,
  "nbformat_minor": 0,
  "metadata": {
    "colab": {
      "name": "examen_interciclo.ipynb",
      "provenance": [],
      "collapsed_sections": []
    },
    "kernelspec": {
      "name": "python3",
      "display_name": "Python 3"
    },
    "language_info": {
      "name": "python"
    }
  },
  "cells": [
    {
      "cell_type": "code",
      "source": [
        "import random\n",
        "import numpy as np\n",
        "from collections import defaultdict\n",
        "from bisect import bisect_left\n",
        "import pandas as pd\n",
        "from matplotlib import pyplot as plt\n",
        "\n",
        "randomLib = []\n",
        "cuadradosMedios = []\n",
        "congruenciaLineal = []\n",
        "\n",
        "seed = 12082021\n",
        "np.random.seed(seed)\n",
        "\n",
        "randomLib = np.random.rand(125)\n",
        "\n",
        "randomLib"
      ],
      "metadata": {
        "colab": {
          "base_uri": "https://localhost:8080/"
        },
        "id": "LVyKyOwIx6Pt",
        "outputId": "b8c656df-c8f6-4fef-9d3c-f8e9d08eb58a"
      },
      "execution_count": 25,
      "outputs": [
        {
          "output_type": "execute_result",
          "data": {
            "text/plain": [
              "array([0.0213125 , 0.1925147 , 0.65022317, 0.59901792, 0.96318574,\n",
              "       0.94105618, 0.72789031, 0.0947742 , 0.19688377, 0.77112984,\n",
              "       0.72658558, 0.93959203, 0.92571122, 0.42733289, 0.07023847,\n",
              "       0.34217477, 0.52154158, 0.60041226, 0.90333886, 0.76506077,\n",
              "       0.86892796, 0.21763692, 0.53873561, 0.67958618, 0.84539166,\n",
              "       0.61548304, 0.38370923, 0.63574691, 0.23378763, 0.41329067,\n",
              "       0.07071273, 0.31224262, 0.20953384, 0.53652589, 0.57905369,\n",
              "       0.39814381, 0.59827327, 0.20438962, 0.02074584, 0.25938279,\n",
              "       0.86849638, 0.39662733, 0.3421929 , 0.14355372, 0.19711259,\n",
              "       0.5059967 , 0.03546392, 0.29331827, 0.90547185, 0.80765768,\n",
              "       0.50734945, 0.28777342, 0.61602177, 0.90067799, 0.22150541,\n",
              "       0.91321866, 0.07154236, 0.92843868, 0.71569544, 0.93907898,\n",
              "       0.19859609, 0.48317233, 0.96721161, 0.70322813, 0.22804718,\n",
              "       0.36413519, 0.93205421, 0.98742882, 0.24431537, 0.8584519 ,\n",
              "       0.44855912, 0.82888944, 0.35179667, 0.75280866, 0.30556722,\n",
              "       0.38674451, 0.19351149, 0.23589404, 0.63790189, 0.57603676,\n",
              "       0.48283931, 0.06693581, 0.08359963, 0.9909249 , 0.72531107,\n",
              "       0.09937889, 0.04179326, 0.87970611, 0.19575825, 0.93669143,\n",
              "       0.9545418 , 0.09976707, 0.07734505, 0.72275603, 0.56639226,\n",
              "       0.77463941, 0.61429644, 0.73864634, 0.73887956, 0.49283225,\n",
              "       0.27322529, 0.85951504, 0.79209664, 0.62727382, 0.09990961,\n",
              "       0.70505351, 0.09687841, 0.43925882, 0.66233415, 0.16775   ,\n",
              "       0.819261  , 0.12976795, 0.50636557, 0.94269579, 0.13489497,\n",
              "       0.18690339, 0.83743393, 0.91715583, 0.8234396 , 0.64336142,\n",
              "       0.73729768, 0.44924166, 0.07233337, 0.67034502, 0.65546879])"
            ]
          },
          "metadata": {},
          "execution_count": 25
        }
      ]
    },
    {
      "cell_type": "code",
      "source": [
        "xo = 74731897457\n",
        "d = 7\n",
        "iteraciones = 125\n",
        "xn = xo\n",
        "\n",
        "for i in range(iteraciones):\n",
        "  xnn = xn**2\n",
        "  txnn = str(xnn).zfill(8)\n",
        "  tam = len(txnn)\n",
        "  ui = int(txnn[int(tam/2-d/2):int(tam/2+d/2)])\n",
        "  rn = ui / (int('9'*d)+1)\n",
        "  cuadradosMedios.append(rn)\n",
        "  xn = ui\n",
        "\n",
        "xo = 7\n",
        "a = 74731897457\n",
        "b = 37747318974\n",
        "m = 19\n",
        "xn = xo\n",
        "\n",
        "for i in range(iteraciones):\n",
        "  xnn = (a*xn+b) % m\n",
        "  ui = xnn/m\n",
        "  congruenciaLineal.append(ui)\n",
        "  xn = xnn\n",
        "\n"
      ],
      "metadata": {
        "id": "-19ePB_qxd4f"
      },
      "execution_count": 26,
      "outputs": []
    },
    {
      "cell_type": "code",
      "source": [
        "\n",
        "def count_intervals(sequence):\n",
        "    intervals = [0, 0.1, 0.2, 0.3, 0.4, 0.5, 0.6, 0.7, 0.8, 0.9, 1]\n",
        "    count = defaultdict(int)\n",
        "    intervals.sort()\n",
        "    for item in sequence:\n",
        "        pos = bisect_left(intervals, item)\n",
        "        if pos == len(intervals):\n",
        "            count[None] += 1\n",
        "        else:\n",
        "            count[intervals[pos]] += 1\n",
        "    return count\n",
        "\n",
        "countCuadradosMedios = count_intervals(cuadradosMedios)\n",
        "countCongruenciaLineal = count_intervals(congruenciaLineal)\n",
        "countRandomLib = count_intervals(randomLib)\n"
      ],
      "metadata": {
        "id": "70N5f4UiyK5O"
      },
      "execution_count": 27,
      "outputs": []
    },
    {
      "cell_type": "code",
      "source": [
        "countCuadradosMediosDF = pd.DataFrame.from_dict(countCuadradosMedios, orient='index')\n",
        "countCuadradosMediosDF = countCuadradosMediosDF.rename(columns={0: 'Freq'})\n",
        "countCuadradosMediosDF.index.name = 'Interval'\n",
        "countCuadradosMediosDF = countCuadradosMediosDF.reset_index()\n",
        "print('Cuadrados Medios')\n",
        "print(countCuadradosMediosDF)\n",
        "\n",
        "\n",
        "plt.bar(countCuadradosMediosDF['Interval'], countCuadradosMediosDF['Freq'], align='center')\n",
        "plt.gca().set_xticks(countCuadradosMediosDF['Interval'])\n",
        "plt.gca().set_yticks(countCuadradosMediosDF['Freq'])\n",
        "plt.figure(figsize=(8,8))\n",
        "plt.show()\n",
        "\n",
        "#Congruencia lineal \n",
        "countCongruenciaLinealDF = pd.DataFrame.from_dict(countCongruenciaLineal, orient='index')\n",
        "countCongruenciaLinealDF = countCongruenciaLinealDF.rename(columns={0: 'Freq'})\n",
        "countCongruenciaLinealDF.index.name = 'Interval'\n",
        "countCongruenciaLinealDF = countCongruenciaLinealDF.reset_index()\n",
        "countCongruenciaLinealDF.loc[7] = [0.1, 0] \n",
        "countCongruenciaLinealDF.loc[8] = [0.3, 0] \n",
        "countCongruenciaLinealDF.loc[9] = [0.5, 0] \n",
        "print('Congruencia Lineal')\n",
        "print(countCongruenciaLinealDF)\n",
        "\n",
        "\n",
        "plt.bar(countCongruenciaLinealDF['Interval'], countCongruenciaLinealDF['Freq'], align='center')\n",
        "plt.gca().set_xticks(countCongruenciaLinealDF['Interval'])\n",
        "plt.gca().set_yticks(countCongruenciaLinealDF['Freq'])\n",
        "plt.figure(figsize=(8,8))\n",
        "plt.show()\n",
        "\n",
        "#Libreria de python\n",
        "countRandomLibDF = pd.DataFrame.from_dict(countRandomLib, orient='index')\n",
        "countRandomLibDF = countRandomLibDF.rename(columns={0: 'Freq'})\n",
        "countRandomLibDF.index.name = 'Interval'\n",
        "countRandomLibDF = countRandomLibDF.reset_index()\n",
        "print('Libreria de Python')\n",
        "print(countRandomLibDF)\n",
        "\n",
        "\n",
        "plt.bar(countRandomLibDF['Interval'], countRandomLibDF['Freq'], align='center')\n",
        "plt.gca().set_xticks(countRandomLibDF['Interval'])\n",
        "plt.gca().set_yticks(countRandomLibDF['Freq'])\n",
        "plt.figure(figsize=(8,8))\n",
        "plt.show()\n"
      ],
      "metadata": {
        "colab": {
          "base_uri": "https://localhost:8080/",
          "height": 1000
        },
        "id": "tPU1pnmsyXj6",
        "outputId": "8f27bc24-e1ca-447c-93fe-9c831b64bf64"
      },
      "execution_count": 28,
      "outputs": [
        {
          "output_type": "stream",
          "name": "stdout",
          "text": [
            "Cuadrados Medios\n",
            "   Interval  Freq\n",
            "0       0.5     9\n",
            "1       0.6    16\n",
            "2       0.3    11\n",
            "3       0.1     6\n",
            "4       0.2    10\n",
            "5       0.8    16\n",
            "6       0.7    16\n",
            "7       1.0    18\n",
            "8       0.9    10\n",
            "9       0.4    13\n"
          ]
        },
        {
          "output_type": "display_data",
          "data": {
            "image/png": "[encoded data removed]",
            "text/plain": [
              "<Figure size 432x288 with 1 Axes>"
            ]
          },
          "metadata": {
            "needs_background": "light"
          }
        },
        {
          "output_type": "display_data",
          "data": {
            "text/plain": [
              "<Figure size 576x576 with 0 Axes>"
            ]
          },
          "metadata": {}
        },
        {
          "output_type": "stream",
          "name": "stdout",
          "text": [
            "Congruencia Lineal\n",
            "   Interval  Freq\n",
            "0       0.9  28.0\n",
            "1       1.0  14.0\n",
            "2       0.8  14.0\n",
            "3       0.2  14.0\n",
            "4       0.4  27.0\n",
            "5       0.0  14.0\n",
            "6       0.7  14.0\n",
            "7       0.1   0.0\n",
            "8       0.3   0.0\n",
            "9       0.5   0.0\n"
          ]
        },
        {
          "output_type": "display_data",
          "data": {
            "image/png": "[encoded data removed]",
            "text/plain": [
              "<Figure size 432x288 with 1 Axes>"
            ]
          },
          "metadata": {
            "needs_background": "light"
          }
        },
        {
          "output_type": "display_data",
          "data": {
            "text/plain": [
              "<Figure size 576x576 with 0 Axes>"
            ]
          },
          "metadata": {}
        },
        {
          "output_type": "stream",
          "name": "stdout",
          "text": [
            "Libreria de Python\n",
            "   Interval  Freq\n",
            "0       0.1    16\n",
            "1       0.2    11\n",
            "2       0.7    13\n",
            "3       0.6    11\n",
            "4       1.0    18\n",
            "5       0.8    15\n",
            "6       0.5     8\n",
            "7       0.4    10\n",
            "8       0.9    11\n",
            "9       0.3    12\n"
          ]
        },
        {
          "output_type": "display_data",
          "data": {
            "image/png": "[encoded data removed]",
            "text/plain": [
              "<Figure size 432x288 with 1 Axes>"
            ]
          },
          "metadata": {
            "needs_background": "light"
          }
        },
        {
          "output_type": "display_data",
          "data": {
            "text/plain": [
              "<Figure size 576x576 with 0 Axes>"
            ]
          },
          "metadata": {}
        }
      ]
    },
    {
      "cell_type": "code",
      "source": [
        "def addChi2Column(df):\n",
        "  chi2 = []\n",
        "  for index, row in df.iterrows():\n",
        "    chi2.append(((row['Freq']-10)*(row['Freq']-10))/10)\n",
        "  \n",
        "  df['chi_vals'] = chi2\n",
        "\n",
        "addChi2Column(countCuadradosMediosDF)\n",
        "print(countCuadradosMediosDF)\n",
        "print()\n",
        "print(countCuadradosMediosDF['chi_vals'].sum())"
      ],
      "metadata": {
        "colab": {
          "base_uri": "https://localhost:8080/"
        },
        "id": "CkoQBme4yeiB",
        "outputId": "77953122-e18f-4dcd-8dec-bfdee349a8aa"
      },
      "execution_count": 29,
      "outputs": [
        {
          "output_type": "stream",
          "name": "stdout",
          "text": [
            "   Interval  Freq  chi_vals\n",
            "0       0.5     9       0.1\n",
            "1       0.6    16       3.6\n",
            "2       0.3    11       0.1\n",
            "3       0.1     6       1.6\n",
            "4       0.2    10       0.0\n",
            "5       0.8    16       3.6\n",
            "6       0.7    16       3.6\n",
            "7       1.0    18       6.4\n",
            "8       0.9    10       0.0\n",
            "9       0.4    13       0.9\n",
            "\n",
            "19.9\n"
          ]
        }
      ]
    },
    {
      "cell_type": "code",
      "source": [
        "addChi2Column(countCongruenciaLinealDF)\n",
        "print(countCongruenciaLinealDF)\n",
        "print()\n",
        "print(countCongruenciaLinealDF['chi_vals'].sum())"
      ],
      "metadata": {
        "colab": {
          "base_uri": "https://localhost:8080/"
        },
        "id": "RCh0i1Epykuo",
        "outputId": "f84db8ee-0808-4ad7-d1a5-7a576552790a"
      },
      "execution_count": 30,
      "outputs": [
        {
          "output_type": "stream",
          "name": "stdout",
          "text": [
            "   Interval  Freq  chi_vals\n",
            "0       0.9  28.0      32.4\n",
            "1       1.0  14.0       1.6\n",
            "2       0.8  14.0       1.6\n",
            "3       0.2  14.0       1.6\n",
            "4       0.4  27.0      28.9\n",
            "5       0.0  14.0       1.6\n",
            "6       0.7  14.0       1.6\n",
            "7       0.1   0.0      10.0\n",
            "8       0.3   0.0      10.0\n",
            "9       0.5   0.0      10.0\n",
            "\n",
            "99.30000000000001\n"
          ]
        }
      ]
    },
    {
      "cell_type": "code",
      "source": [
        "addChi2Column(countRandomLibDF)\n",
        "print(countRandomLibDF)\n",
        "print()\n",
        "print(countRandomLibDF['chi_vals'].sum())"
      ],
      "metadata": {
        "colab": {
          "base_uri": "https://localhost:8080/"
        },
        "id": "gkDjAVHJyo1a",
        "outputId": "aac280e6-1f7d-4d1f-d09e-4f6ff45b6178"
      },
      "execution_count": 31,
      "outputs": [
        {
          "output_type": "stream",
          "name": "stdout",
          "text": [
            "   Interval  Freq  chi_vals\n",
            "0       0.1    16       3.6\n",
            "1       0.2    11       0.1\n",
            "2       0.7    13       0.9\n",
            "3       0.6    11       0.1\n",
            "4       1.0    18       6.4\n",
            "5       0.8    15       2.5\n",
            "6       0.5     8       0.4\n",
            "7       0.4    10       0.0\n",
            "8       0.9    11       0.1\n",
            "9       0.3    12       0.4\n",
            "\n",
            "14.5\n"
          ]
        }
      ]
    }
  ]
}