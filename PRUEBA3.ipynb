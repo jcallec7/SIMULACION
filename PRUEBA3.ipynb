{
  "nbformat": 4,
  "nbformat_minor": 0,
  "metadata": {
    "colab": {
      "name": "PRUEBA3.ipynb",
      "provenance": [],
      "collapsed_sections": []
    },
    "kernelspec": {
      "name": "python3",
      "display_name": "Python 3"
    },
    "language_info": {
      "name": "python"
    }
  },
  "cells": [
    {
      "cell_type": "markdown",
      "source": [
        "JOSE CALLE"
      ],
      "metadata": {
        "id": "ohqyNRp1p3_6"
      }
    },
    {
      "cell_type": "markdown",
      "source": [
        "DISTRIBUCION DE POISSON"
      ],
      "metadata": {
        "id": "diH_TM4Cp1dh"
      }
    },
    {
      "cell_type": "code",
      "execution_count": 7,
      "metadata": {
        "colab": {
          "base_uri": "https://localhost:8080/"
        },
        "id": "WLg7V1auoCHD",
        "outputId": "55c451ca-343d-4693-d3b2-0a167a332a90"
      },
      "outputs": [
        {
          "output_type": "stream",
          "name": "stdout",
          "text": [
            "[ 5  6  8  4  9  2  9  6  6 12  7  8 12 13  7  5  5  3  9  9  6  4  4  6\n",
            "  6  2  5  7  7 11  4 10  8  3  7  3  6  9  9  5  3  5  7  6  9  7  4 14\n",
            "  8  4  8 10  5  4 11 11  8 13  5  4  5 11  7  7  3  8  5  3  8 10  6 10\n",
            "  6  5  6  5 10  9 12  9  5  8  4  8  6  7 11  5  4  7  4  5  9  5  5  8\n",
            "  5  5  7 10]\n"
          ]
        }
      ],
      "source": [
        "import matplotlib.pyplot as plt\n",
        "import numpy as np \n",
        "from scipy.interpolate import make_interp_spline\n",
        "from scipy import stats \n",
        "\n",
        "mu = 7\n",
        "poisson = stats.poisson(mu)\n",
        "aleatorios = poisson.rvs(100)  \n",
        "print(aleatorios)\n"
      ]
    },
    {
      "cell_type": "code",
      "source": [
        "sorted_random_data = np.sort(aleatorios)\n",
        "p = 1. * np.arange(len(sorted_random_data)) / float(len(sorted_random_data) - 1)\n",
        "print(\"CDF\",p)\n",
        "\n",
        "fig = plt.figure()\n",
        "fig.suptitle('CDF')\n",
        "ax2 = fig.add_subplot(111)\n",
        "ax2.plot(sorted_random_data, p)\n",
        "ax2.set_xlabel('sorted_random_data')\n",
        "ax2.set_ylabel('p')"
      ],
      "metadata": {
        "colab": {
          "base_uri": "https://localhost:8080/",
          "height": 621
        },
        "id": "W2i-IOgto8Vd",
        "outputId": "769a6911-bd4b-4e53-9a3f-5fa1df3e2452"
      },
      "execution_count": 9,
      "outputs": [
        {
          "output_type": "stream",
          "name": "stdout",
          "text": [
            "CDF [0.         0.01010101 0.02020202 0.03030303 0.04040404 0.05050505\n",
            " 0.06060606 0.07070707 0.08080808 0.09090909 0.1010101  0.11111111\n",
            " 0.12121212 0.13131313 0.14141414 0.15151515 0.16161616 0.17171717\n",
            " 0.18181818 0.19191919 0.2020202  0.21212121 0.22222222 0.23232323\n",
            " 0.24242424 0.25252525 0.26262626 0.27272727 0.28282828 0.29292929\n",
            " 0.3030303  0.31313131 0.32323232 0.33333333 0.34343434 0.35353535\n",
            " 0.36363636 0.37373737 0.38383838 0.39393939 0.4040404  0.41414141\n",
            " 0.42424242 0.43434343 0.44444444 0.45454545 0.46464646 0.47474747\n",
            " 0.48484848 0.49494949 0.50505051 0.51515152 0.52525253 0.53535354\n",
            " 0.54545455 0.55555556 0.56565657 0.57575758 0.58585859 0.5959596\n",
            " 0.60606061 0.61616162 0.62626263 0.63636364 0.64646465 0.65656566\n",
            " 0.66666667 0.67676768 0.68686869 0.6969697  0.70707071 0.71717172\n",
            " 0.72727273 0.73737374 0.74747475 0.75757576 0.76767677 0.77777778\n",
            " 0.78787879 0.7979798  0.80808081 0.81818182 0.82828283 0.83838384\n",
            " 0.84848485 0.85858586 0.86868687 0.87878788 0.88888889 0.8989899\n",
            " 0.90909091 0.91919192 0.92929293 0.93939394 0.94949495 0.95959596\n",
            " 0.96969697 0.97979798 0.98989899 1.        ]\n"
          ]
        },
        {
          "output_type": "execute_result",
          "data": {
            "text/plain": [
              "Text(0, 0.5, 'p')"
            ]
          },
          "metadata": {},
          "execution_count": 9
        },
        {
          "output_type": "display_data",
          "data": {
            "image/png": "[encoded data removed]",
            "text/plain": [
              "<Figure size 432x288 with 1 Axes>"
            ]
          },
          "metadata": {
            "needs_background": "light"
          }
        }
      ]
    },
    {
      "cell_type": "markdown",
      "source": [
        "DISTRIBUCION BINOMIAL"
      ],
      "metadata": {
        "id": "raXf6DIlqGtE"
      }
    },
    {
      "cell_type": "code",
      "source": [
        "N, p = 100, 0.97\n",
        "binomial = stats.binom(N, p) \n",
        "\n",
        "aleatoriosB = binomial.rvs(100)\n",
        "print(aleatoriosB)\n"
      ],
      "metadata": {
        "colab": {
          "base_uri": "https://localhost:8080/"
        },
        "id": "f4MfqzXMqG2S",
        "outputId": "dad44946-d726-48d1-b781-34702ca6ab95"
      },
      "execution_count": 3,
      "outputs": [
        {
          "output_type": "stream",
          "name": "stdout",
          "text": [
            "[ 97  98  98  95  98  99  99  97  96  97  99  98  96  97  98  98  98  98\n",
            "  99  98  97  98  97  98  96  97  96 100  99  95  98  98  94  98  97  97\n",
            "  97  98  96  99  99  98  97  94  99  99  98  95  98  97  97  98  97  99\n",
            "  97  95  98  97  95 100  95  96  90  89  96  98  97  95  98  99  98  96\n",
            "  95  98  97  92  98  98  97  97  97 100  98  98  93  97  96  98  98  96\n",
            "  99  95  97  94  99  98  97  95 100 100]\n"
          ]
        }
      ]
    },
    {
      "cell_type": "code",
      "source": [
        "sorted_random_data = np.sort(aleatoriosB)\n",
        "p = 1. * np.arange(len(sorted_random_data)) / float(len(sorted_random_data) - 1)\n",
        "print(\"CDF\",p)\n",
        "\n",
        "fig = plt.figure()\n",
        "fig.suptitle('CDF')\n",
        "ax2 = fig.add_subplot(111)\n",
        "ax2.plot(sorted_random_data, p)\n",
        "\n",
        "\n",
        "ax2.set_xlabel('sorted_random_data')\n",
        "ax2.set_ylabel('p')"
      ],
      "metadata": {
        "colab": {
          "base_uri": "https://localhost:8080/",
          "height": 621
        },
        "id": "ViStVlBuqG-u",
        "outputId": "8e453b2c-6a2a-4c33-e031-5212c681863d"
      },
      "execution_count": 4,
      "outputs": [
        {
          "output_type": "stream",
          "name": "stdout",
          "text": [
            "CDF [0.         0.01010101 0.02020202 0.03030303 0.04040404 0.05050505\n",
            " 0.06060606 0.07070707 0.08080808 0.09090909 0.1010101  0.11111111\n",
            " 0.12121212 0.13131313 0.14141414 0.15151515 0.16161616 0.17171717\n",
            " 0.18181818 0.19191919 0.2020202  0.21212121 0.22222222 0.23232323\n",
            " 0.24242424 0.25252525 0.26262626 0.27272727 0.28282828 0.29292929\n",
            " 0.3030303  0.31313131 0.32323232 0.33333333 0.34343434 0.35353535\n",
            " 0.36363636 0.37373737 0.38383838 0.39393939 0.4040404  0.41414141\n",
            " 0.42424242 0.43434343 0.44444444 0.45454545 0.46464646 0.47474747\n",
            " 0.48484848 0.49494949 0.50505051 0.51515152 0.52525253 0.53535354\n",
            " 0.54545455 0.55555556 0.56565657 0.57575758 0.58585859 0.5959596\n",
            " 0.60606061 0.61616162 0.62626263 0.63636364 0.64646465 0.65656566\n",
            " 0.66666667 0.67676768 0.68686869 0.6969697  0.70707071 0.71717172\n",
            " 0.72727273 0.73737374 0.74747475 0.75757576 0.76767677 0.77777778\n",
            " 0.78787879 0.7979798  0.80808081 0.81818182 0.82828283 0.83838384\n",
            " 0.84848485 0.85858586 0.86868687 0.87878788 0.88888889 0.8989899\n",
            " 0.90909091 0.91919192 0.92929293 0.93939394 0.94949495 0.95959596\n",
            " 0.96969697 0.97979798 0.98989899 1.        ]\n"
          ]
        },
        {
          "output_type": "execute_result",
          "data": {
            "text/plain": [
              "Text(0, 0.5, 'p')"
            ]
          },
          "metadata": {},
          "execution_count": 4
        },
        {
          "output_type": "display_data",
          "data": {
            "image/png": "[encoded data removed]",
            "text/plain": [
              "<Figure size 432x288 with 1 Axes>"
            ]
          },
          "metadata": {
            "needs_background": "light"
          }
        }
      ]
    },
    {
      "cell_type": "markdown",
      "source": [
        "DISTRIBUCION GEOMETRICA"
      ],
      "metadata": {
        "id": "aQcFD9zaqHIg"
      }
    },
    {
      "cell_type": "code",
      "source": [
        "p =  0.2 \n",
        "geometrica = stats.geom(p) \n",
        "aleatoriosG = geometrica.rvs(100) \n",
        "print(aleatoriosG)\n"
      ],
      "metadata": {
        "colab": {
          "base_uri": "https://localhost:8080/"
        },
        "id": "fRfmFrW-qHRN",
        "outputId": "15a3feb1-802a-4d79-fffe-065e942d903f"
      },
      "execution_count": 5,
      "outputs": [
        {
          "output_type": "stream",
          "name": "stdout",
          "text": [
            "[23  8  6  1  1  2  7  7 23  4  3  1 11  3  7  8  1  4  7  5  5  6 10  9\n",
            "  1  1  1  4  3  7 18  4 15  2  6 11  1 14  3 10  2  1  8  1  3  2  2  1\n",
            " 13 14  6  4  1  2  1  2 12 10 12  2  1  3  4  1  2  1  8  2  2 15  4  3\n",
            "  1 12 11  2  4  1  4  3  2  3  1 34  1  5  3  5  3  3 15  3 12 14  8  5\n",
            "  1  5  9  1]\n"
          ]
        }
      ]
    },
    {
      "cell_type": "code",
      "source": [
        "sorted_random_data = np.sort(aleatoriosG)\n",
        "p = 1. * np.arange(len(sorted_random_data)) / float(len(sorted_random_data) - 1)\n",
        "print(\"CDF\",p)\n",
        "\n",
        "fig = plt.figure()\n",
        "fig.suptitle('CDF')\n",
        "ax2 = fig.add_subplot(111)\n",
        "ax2.plot(sorted_random_data, p)\n",
        "ax2.set_xlabel('sorted_random_data')\n",
        "ax2.set_ylabel('p')"
      ],
      "metadata": {
        "colab": {
          "base_uri": "https://localhost:8080/",
          "height": 621
        },
        "id": "XEJr4xD2qHXV",
        "outputId": "d2f8cd0f-bf1e-4d04-d1af-c7cd6054db6d"
      },
      "execution_count": 6,
      "outputs": [
        {
          "output_type": "stream",
          "name": "stdout",
          "text": [
            "CDF [0.         0.01010101 0.02020202 0.03030303 0.04040404 0.05050505\n",
            " 0.06060606 0.07070707 0.08080808 0.09090909 0.1010101  0.11111111\n",
            " 0.12121212 0.13131313 0.14141414 0.15151515 0.16161616 0.17171717\n",
            " 0.18181818 0.19191919 0.2020202  0.21212121 0.22222222 0.23232323\n",
            " 0.24242424 0.25252525 0.26262626 0.27272727 0.28282828 0.29292929\n",
            " 0.3030303  0.31313131 0.32323232 0.33333333 0.34343434 0.35353535\n",
            " 0.36363636 0.37373737 0.38383838 0.39393939 0.4040404  0.41414141\n",
            " 0.42424242 0.43434343 0.44444444 0.45454545 0.46464646 0.47474747\n",
            " 0.48484848 0.49494949 0.50505051 0.51515152 0.52525253 0.53535354\n",
            " 0.54545455 0.55555556 0.56565657 0.57575758 0.58585859 0.5959596\n",
            " 0.60606061 0.61616162 0.62626263 0.63636364 0.64646465 0.65656566\n",
            " 0.66666667 0.67676768 0.68686869 0.6969697  0.70707071 0.71717172\n",
            " 0.72727273 0.73737374 0.74747475 0.75757576 0.76767677 0.77777778\n",
            " 0.78787879 0.7979798  0.80808081 0.81818182 0.82828283 0.83838384\n",
            " 0.84848485 0.85858586 0.86868687 0.87878788 0.88888889 0.8989899\n",
            " 0.90909091 0.91919192 0.92929293 0.93939394 0.94949495 0.95959596\n",
            " 0.96969697 0.97979798 0.98989899 1.        ]\n"
          ]
        },
        {
          "output_type": "execute_result",
          "data": {
            "text/plain": [
              "Text(0, 0.5, 'p')"
            ]
          },
          "metadata": {},
          "execution_count": 6
        },
        {
          "output_type": "display_data",
          "data": {
            "image/png": "[encoded data removed]",
            "text/plain": [
              "<Figure size 432x288 with 1 Axes>"
            ]
          },
          "metadata": {
            "needs_background": "light"
          }
        }
      ]
    }
  ]
}